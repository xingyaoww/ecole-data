{
 "cells": [
  {
   "cell_type": "code",
   "execution_count": 1,
   "metadata": {},
   "outputs": [
    {
     "name": "stderr",
     "output_type": "stream",
     "text": [
      "/home/xingyao6/opt/miniconda3/envs/ecole-datasets/lib/python3.9/site-packages/tqdm/auto.py:21: TqdmWarning: IProgress not found. Please update jupyter and ipywidgets. See https://ipywidgets.readthedocs.io/en/stable/user_install.html\n",
      "  from .autonotebook import tqdm as notebook_tqdm\n",
      "2023-08-21 23:38:23,837 - INFO - ecole_dataset - Using cache dir: /home/xingyao6/.cache/ecole_dataset_cache\n",
      "2023-08-21 23:38:23,837 - INFO - ecole_dataset - To change this, set the environment variable DATASETS_CACHE\n"
     ]
    }
   ],
   "source": [
    "import ecole_dataset"
   ]
  },
  {
   "cell_type": "code",
   "execution_count": 2,
   "metadata": {},
   "outputs": [
    {
     "name": "stderr",
     "output_type": "stream",
     "text": [
      "2023-08-21 23:38:27,027 - INFO - ecole_dataset - Loaded 4 datasets: OmniLabel, VAWTest, ImSituTest, Kinetics400Test\n"
     ]
    }
   ],
   "source": [
    "test_datasets = ecole_dataset.registry.load_datasets(\n",
    "    split=ecole_dataset.SplitType.TEST\n",
    ")"
   ]
  },
  {
   "cell_type": "code",
   "execution_count": 3,
   "metadata": {},
   "outputs": [
    {
     "data": {
      "text/plain": [
       "{'OmniLabel': Dataset({\n",
       "     features: ['id', 'image_id', 'image_filename', 'bbox', 'descriptions'],\n",
       "     num_rows: 165703\n",
       " }),\n",
       " 'VAWTest': Dataset({\n",
       "     features: ['image_id', 'instance_id', 'instance_bbox', 'instance_polygon', 'object_name', 'positive_attributes', 'negative_attributes'],\n",
       "     num_rows: 31819\n",
       " }),\n",
       " 'ImSituTest': Dataset({\n",
       "     features: ['image_id', 'frames', 'verb'],\n",
       "     num_rows: 25200\n",
       " }),\n",
       " 'Kinetics400Test': Dataset({\n",
       "     features: ['label', 'youtube_id', 'time_start', 'time_end', 'split'],\n",
       "     num_rows: 34751\n",
       " })}"
      ]
     },
     "execution_count": 3,
     "metadata": {},
     "output_type": "execute_result"
    }
   ],
   "source": [
    "test_datasets"
   ]
  },
  {
   "cell_type": "code",
   "execution_count": 5,
   "metadata": {},
   "outputs": [
    {
     "name": "stderr",
     "output_type": "stream",
     "text": [
      "Downloading data: 100%|██████████| 8.45M/8.45M [00:00<00:00, 22.1MB/s]\n",
      "Downloading data files: 100%|██████████| 1/1 [00:00<00:00,  2.53it/s]\n",
      "Extracting data files: 100%|██████████| 1/1 [00:00<00:00, 112.65it/s]\n",
      "Generating train split: 216227 examples [00:00, 616338.51 examples/s]\n",
      "2023-08-21 23:39:52,549 - INFO - ecole_dataset - Loaded 2 datasets: ImSituTrain, Kinetics400Train\n"
     ]
    }
   ],
   "source": [
    "activity_train_datasets = ecole_dataset.registry.load_datasets(\n",
    "    concept_type=ecole_dataset.ConceptType.ACTIVITY,\n",
    "    split=ecole_dataset.SplitType.TRAIN\n",
    ")"
   ]
  },
  {
   "cell_type": "code",
   "execution_count": 6,
   "metadata": {},
   "outputs": [
    {
     "data": {
      "text/plain": [
       "{'ImSituTrain': Dataset({\n",
       "     features: ['image_id', 'frames', 'verb'],\n",
       "     num_rows: 75702\n",
       " }),\n",
       " 'Kinetics400Train': Dataset({\n",
       "     features: ['label', 'youtube_id', 'time_start', 'time_end', 'split'],\n",
       "     num_rows: 216227\n",
       " })}"
      ]
     },
     "execution_count": 6,
     "metadata": {},
     "output_type": "execute_result"
    }
   ],
   "source": [
    "activity_train_datasets"
   ]
  }
 ],
 "metadata": {
  "kernelspec": {
   "display_name": "ecole-datasets",
   "language": "python",
   "name": "python3"
  },
  "language_info": {
   "codemirror_mode": {
    "name": "ipython",
    "version": 3
   },
   "file_extension": ".py",
   "mimetype": "text/x-python",
   "name": "python",
   "nbconvert_exporter": "python",
   "pygments_lexer": "ipython3",
   "version": "3.9.17"
  },
  "orig_nbformat": 4
 },
 "nbformat": 4,
 "nbformat_minor": 2
}
